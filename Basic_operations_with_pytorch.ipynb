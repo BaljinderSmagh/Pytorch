{
  "nbformat": 4,
  "nbformat_minor": 0,
  "metadata": {
    "colab": {
      "name": "Basic operations with pytorch.ipynb",
      "provenance": []
    },
    "kernelspec": {
      "name": "python3",
      "display_name": "Python 3"
    }
  },
  "cells": [
    {
      "cell_type": "code",
      "metadata": {
        "colab": {
          "base_uri": "https://localhost:8080/"
        },
        "id": "tSpHSY27d_3A",
        "outputId": "3780bf0e-fdc4-475d-8478-af4484a3bcf7"
      },
      "source": [
        "#to install torch library\n",
        "!pip3 install torch torchvision"
      ],
      "execution_count": 1,
      "outputs": [
        {
          "output_type": "stream",
          "text": [
            "Requirement already satisfied: torch in /usr/local/lib/python3.6/dist-packages (1.7.0+cu101)\n",
            "Requirement already satisfied: torchvision in /usr/local/lib/python3.6/dist-packages (0.8.1+cu101)\n",
            "Requirement already satisfied: numpy in /usr/local/lib/python3.6/dist-packages (from torch) (1.19.5)\n",
            "Requirement already satisfied: future in /usr/local/lib/python3.6/dist-packages (from torch) (0.16.0)\n",
            "Requirement already satisfied: dataclasses in /usr/local/lib/python3.6/dist-packages (from torch) (0.8)\n",
            "Requirement already satisfied: typing-extensions in /usr/local/lib/python3.6/dist-packages (from torch) (3.7.4.3)\n",
            "Requirement already satisfied: pillow>=4.1.1 in /usr/local/lib/python3.6/dist-packages (from torchvision) (7.0.0)\n"
          ],
          "name": "stdout"
        }
      ]
    },
    {
      "cell_type": "code",
      "metadata": {
        "id": "hjuCl38ieLWO"
      },
      "source": [
        "from torch import torch"
      ],
      "execution_count": 2,
      "outputs": []
    },
    {
      "cell_type": "code",
      "metadata": {
        "id": "IH8EztbSeO1f"
      },
      "source": [
        "#setting the seed to get same output\n",
        "torch.manual_seed(42)\n",
        "\n",
        "#intializing a random tensor\n",
        "matrix=torch.rand(4,3)"
      ],
      "execution_count": 3,
      "outputs": []
    },
    {
      "cell_type": "code",
      "metadata": {
        "colab": {
          "base_uri": "https://localhost:8080/"
        },
        "id": "zW1CdQ5kHOL9",
        "outputId": "5cbb4df3-e430-4e81-e5eb-c87bc5bc8dca"
      },
      "source": [
        "#to chech if it tensor or not\n",
        "print(torch.is_tensor(matrix))"
      ],
      "execution_count": 4,
      "outputs": [
        {
          "output_type": "stream",
          "text": [
            "True\n"
          ],
          "name": "stdout"
        }
      ]
    },
    {
      "cell_type": "code",
      "metadata": {
        "colab": {
          "base_uri": "https://localhost:8080/"
        },
        "id": "Jmyd7kdWeUzj",
        "outputId": "34689ac2-c1a6-409e-bbcf-3b58701fe5e3"
      },
      "source": [
        "print(matrix)"
      ],
      "execution_count": 5,
      "outputs": [
        {
          "output_type": "stream",
          "text": [
            "tensor([[0.8823, 0.9150, 0.3829],\n",
            "        [0.9593, 0.3904, 0.6009],\n",
            "        [0.2566, 0.7936, 0.9408],\n",
            "        [0.1332, 0.9346, 0.5936]])\n"
          ],
          "name": "stdout"
        }
      ]
    },
    {
      "cell_type": "markdown",
      "metadata": {
        "id": "ykPeXEJDexTH"
      },
      "source": [
        "Tensors are mutlidimensional arrays"
      ]
    },
    {
      "cell_type": "code",
      "metadata": {
        "colab": {
          "base_uri": "https://localhost:8080/"
        },
        "id": "p8BOI0tEgxuS",
        "outputId": "928a7675-5fcf-4594-de36-6209c5ed6d08"
      },
      "source": [
        "print(matrix.shape)"
      ],
      "execution_count": 6,
      "outputs": [
        {
          "output_type": "stream",
          "text": [
            "torch.Size([4, 3])\n"
          ],
          "name": "stdout"
        }
      ]
    },
    {
      "cell_type": "code",
      "metadata": {
        "colab": {
          "base_uri": "https://localhost:8080/"
        },
        "id": "xKYQiSnQN5iO",
        "outputId": "7964778d-cc33-4cd0-d174-bca3a1754b4e"
      },
      "source": [
        "#element wise angle of the given input tensor\n",
        "torch.angle(matrix)"
      ],
      "execution_count": 13,
      "outputs": [
        {
          "output_type": "execute_result",
          "data": {
            "text/plain": [
              "tensor([[0., 0., 0.],\n",
              "        [0., 0., 0.],\n",
              "        [0., 0., 0.],\n",
              "        [0., 0., 0.]])"
            ]
          },
          "metadata": {
            "tags": []
          },
          "execution_count": 13
        }
      ]
    },
    {
      "cell_type": "code",
      "metadata": {
        "colab": {
          "base_uri": "https://localhost:8080/"
        },
        "id": "_IWAN1MaOZuG",
        "outputId": "c3b5e549-7774-4eba-a7d8-6b05ae361b02"
      },
      "source": [
        "#returns the indice of the maximum value in the tensor\n",
        "print('Argmax-',torch.argmax(matrix),'\\n')\n",
        "\n",
        "#return the maximum value  in the tensor\n",
        "print('max value-',torch.max(matrix))"
      ],
      "execution_count": 21,
      "outputs": [
        {
          "output_type": "stream",
          "text": [
            "Argmax- tensor(3) \n",
            "\n",
            "max value- tensor(0.9593)\n"
          ],
          "name": "stdout"
        }
      ]
    },
    {
      "cell_type": "code",
      "metadata": {
        "colab": {
          "base_uri": "https://localhost:8080/"
        },
        "id": "S91OoVFSPF-a",
        "outputId": "fd38ad74-bea4-4226-ee4a-ed8a52d40a55"
      },
      "source": [
        "torch.max(matrix)"
      ],
      "execution_count": 18,
      "outputs": [
        {
          "output_type": "execute_result",
          "data": {
            "text/plain": [
              "tensor(0.9593)"
            ]
          },
          "metadata": {
            "tags": []
          },
          "execution_count": 18
        }
      ]
    },
    {
      "cell_type": "code",
      "metadata": {
        "colab": {
          "base_uri": "https://localhost:8080/"
        },
        "id": "N5_A1qEle1Xc",
        "outputId": "e91bc4f8-1041-405e-9cd2-6625cefd4fd9"
      },
      "source": [
        "#matrix transpose\n",
        "\n",
        "torch.t(matrix)"
      ],
      "execution_count": 7,
      "outputs": [
        {
          "output_type": "execute_result",
          "data": {
            "text/plain": [
              "tensor([[0.8823, 0.9593, 0.2566, 0.1332],\n",
              "        [0.9150, 0.3904, 0.7936, 0.9346],\n",
              "        [0.3829, 0.6009, 0.9408, 0.5936]])"
            ]
          },
          "metadata": {
            "tags": []
          },
          "execution_count": 7
        }
      ]
    },
    {
      "cell_type": "code",
      "metadata": {
        "colab": {
          "base_uri": "https://localhost:8080/"
        },
        "id": "i0UWDy6Jgewz",
        "outputId": "1826b9d9-98ea-4f0d-a669-41d15232a4ac"
      },
      "source": [
        "#reshaping the tensor\n",
        "\n",
        "new_matrix=matrix.reshape(6,2)\n",
        "\n",
        "print(new_matrix)\n",
        "\n",
        "new_matrix.shape"
      ],
      "execution_count": 8,
      "outputs": [
        {
          "output_type": "stream",
          "text": [
            "tensor([[0.8823, 0.9150],\n",
            "        [0.3829, 0.9593],\n",
            "        [0.3904, 0.6009],\n",
            "        [0.2566, 0.7936],\n",
            "        [0.9408, 0.1332],\n",
            "        [0.9346, 0.5936]])\n"
          ],
          "name": "stdout"
        },
        {
          "output_type": "execute_result",
          "data": {
            "text/plain": [
              "torch.Size([6, 2])"
            ]
          },
          "metadata": {
            "tags": []
          },
          "execution_count": 8
        }
      ]
    },
    {
      "cell_type": "markdown",
      "metadata": {
        "id": "ISvZMOwciyf2"
      },
      "source": [
        "Operations between two tensors"
      ]
    },
    {
      "cell_type": "code",
      "metadata": {
        "id": "J34PKUWoixqO"
      },
      "source": [
        "torch.manual_seed(42)\n",
        "\n",
        "tensor_1=torch.randn(2,2)\n",
        "tensor_2=torch.randn(2,2)"
      ],
      "execution_count": 9,
      "outputs": []
    },
    {
      "cell_type": "code",
      "metadata": {
        "colab": {
          "base_uri": "https://localhost:8080/"
        },
        "id": "JE5XhRDajJgT",
        "outputId": "48d7e894-d20d-412a-d49d-f43801eaa532"
      },
      "source": [
        "#addition\n",
        "\n",
        "print(torch.add(tensor_1,tensor_2), '\\n')\n",
        "\n",
        "\n",
        "#Subtraction\n",
        "\n",
        "print(torch.sub(tensor_1,tensor_2), '\\n')\n",
        "\n",
        "#Division\n",
        "\n",
        "print(torch.div(tensor_1,tensor_2),'\\n')\n",
        "\n",
        "#multiplication\n",
        "\n",
        "print(torch.mm(tensor_1,tensor_2))"
      ],
      "execution_count": 10,
      "outputs": [
        {
          "output_type": "stream",
          "text": [
            "tensor([[-0.7862, -0.0575],\n",
            "        [ 2.4427, -0.4077]]) \n",
            "\n",
            "tensor([[ 1.4595,  0.3151],\n",
            "        [-1.9737,  0.8683]]) \n",
            "\n",
            "tensor([[-0.2999, -0.6913],\n",
            "        [ 0.1062, -0.3610]]) \n",
            "\n",
            "tensor([[-0.0936, -0.1449],\n",
            "        [ 0.2454, -0.1906]])\n"
          ],
          "name": "stdout"
        }
      ]
    },
    {
      "cell_type": "code",
      "metadata": {
        "colab": {
          "base_uri": "https://localhost:8080/"
        },
        "id": "4VGtSWV4j7Ns",
        "outputId": "9a1b853b-7dab-489c-97b6-cc4c84e23e8c"
      },
      "source": [
        "print('tensor 1',tensor_1,'\\n')\n",
        "\n",
        "print('tensor 2',tensor_2,'\\n')\n",
        "\n",
        "#Concatenating two tensors vertically\n",
        "\n",
        "print('vertically added tensors',torch.cat((tensor_1,tensor_2)),'\\n')\n",
        "\n",
        "#Concatenating two tensors horizontally\n",
        " \n",
        "print('horizontally added tensors',torch.cat((tensor_1,tensor_2),dim=1))"
      ],
      "execution_count": 11,
      "outputs": [
        {
          "output_type": "stream",
          "text": [
            "tensor 1 tensor([[0.3367, 0.1288],\n",
            "        [0.2345, 0.2303]]) \n",
            "\n",
            "tensor 2 tensor([[-1.1229, -0.1863],\n",
            "        [ 2.2082, -0.6380]]) \n",
            "\n",
            "vertically added tensors tensor([[ 0.3367,  0.1288],\n",
            "        [ 0.2345,  0.2303],\n",
            "        [-1.1229, -0.1863],\n",
            "        [ 2.2082, -0.6380]]) \n",
            "\n",
            "horizontally added tensors tensor([[ 0.3367,  0.1288, -1.1229, -0.1863],\n",
            "        [ 0.2345,  0.2303,  2.2082, -0.6380]])\n"
          ],
          "name": "stdout"
        }
      ]
    },
    {
      "cell_type": "code",
      "metadata": {
        "colab": {
          "base_uri": "https://localhost:8080/"
        },
        "id": "dHs4Eyf0QHhx",
        "outputId": "c42dd181-b17a-4fd2-d4bc-ab077b9dca82"
      },
      "source": [
        "#returns element wise maximum value of the two input tensors\n",
        "torch.maximum(tensor_1,tensor_2)"
      ],
      "execution_count": 22,
      "outputs": [
        {
          "output_type": "execute_result",
          "data": {
            "text/plain": [
              "tensor([[0.3367, 0.1288],\n",
              "        [2.2082, 0.2303]])"
            ]
          },
          "metadata": {
            "tags": []
          },
          "execution_count": 22
        }
      ]
    }
  ]
}